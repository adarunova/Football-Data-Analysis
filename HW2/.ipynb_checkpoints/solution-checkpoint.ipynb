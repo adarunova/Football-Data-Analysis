{
 "cells": [
  {
   "cell_type": "code",
   "execution_count": 1,
   "id": "393a42d3",
   "metadata": {},
   "outputs": [],
   "source": [
    "import pandas as pd\n",
    "import os\n",
    "import numpy as np\n",
    "from matplotlib import pylab as plot\n",
    "%matplotlib inline\n",
    "\n",
    "import xgboost as xgb\n",
    "from xgboost.sklearn import XGBClassifier"
   ]
  },
  {
   "cell_type": "markdown",
   "id": "86915e69",
   "metadata": {},
   "source": [
    "Загрузим тренировочный датасет, датасет, по которому нужно сделать предсказания, и датасет, содержащий 'id' предсказываемых действий "
   ]
  },
  {
   "cell_type": "code",
   "execution_count": 2,
   "id": "f36f4d18",
   "metadata": {},
   "outputs": [],
   "source": [
    "# Загружаем датасеты\n",
    "df_train = pd.read_csv('data/df_events_epl_train.csv', low_memory=False) # тренировочный\n",
    "df_predict = pd.read_csv('data/df_events_bundes_test.csv', low_memory=False) # предсказываемый\n",
    "\n",
    "submission_result = pd.read_csv('data/sample_submission.csv', low_memory=False) # 'id' предсказываемых действий"
   ]
  },
  {
   "cell_type": "markdown",
   "id": "536e3616",
   "metadata": {},
   "source": [
    "Предсказывать успешность паса будем с помощью следующих метрик:\n",
    "1. Начало и конец паса (x и y координаты)\n",
    "2. Длина паса\n",
    "3. Угол паса\n",
    "4. Высота паса ('Ground Pass', 'Low Pass', 'High Pass')\n",
    "5. Часть тела, которой сделан пас ('Drop Kick', 'Head', 'Keeper Arm', 'Left Foot', 'Other', 'Right Foot', 'No Touch', 'NaN')\n",
    "6. Тип паса ('Recovery', 'Interception', 'NaN')"
   ]
  },
  {
   "cell_type": "markdown",
   "id": "cd01ad73",
   "metadata": {},
   "source": [
    "Подготовим обучающий датасет:\n",
    "1. Возьмём из df_train только те строки, где 'type_name' = 'Pass'\n",
    "2. Удалим из полученных датасетов строки, для которых 'pass_type_name' равен 'Kick Off', 'Throw-in', 'Goal Kick','Free Kick', 'Corner'\n",
    "3. Удалим из полученных датасетов строки, для которых 'pass_outcome_name' равен 'Pass Offside', 'Injury Clearance', 'Unknown'\n",
    "4. Удалим строки, где 'pass_miscommunication' = 'True' (пас точно не был успешен, но не из-за метрик паса, поэтому эти данные можно считать выбросом)"
   ]
  },
  {
   "cell_type": "code",
   "execution_count": 4,
   "id": "8cb1f16b",
   "metadata": {},
   "outputs": [],
   "source": [
    "# Берём строки, обозначающие пас\n",
    "df_train = df_train[(df_train['type_name'] == 'Pass')]"
   ]
  },
  {
   "cell_type": "code",
   "execution_count": 7,
   "id": "aec88291",
   "metadata": {},
   "outputs": [],
   "source": [
    "# Убираем ненужные строки\n",
    "df_train = df_train[~df_train['pass_type_name'].isin(['Kick Off', 'Throw-in', 'Goal Kick', 'Free Kick', 'Corner'])]\n",
    "df_train = df_train[~df_train['pass_outcome_name'].isin(['Pass Offside', 'Injury Clearance', 'Unknown'])]\n",
    "df_train = df_train[~(df_train['pass_miscommunication'] == True)]"
   ]
  },
  {
   "cell_type": "markdown",
   "id": "ae181e2a",
   "metadata": {},
   "source": [
    "Теперь составим X и y из нужных столбцов. Напишем функцию, которая будет составлять правильные датафреймы"
   ]
  },
  {
   "cell_type": "code",
   "execution_count": 6,
   "id": "919ad8df",
   "metadata": {},
   "outputs": [],
   "source": [
    "# Функция, которая преобразует исходный датасет в нужный для решения задачи\n",
    "def set_X(df):\n",
    "    # Устанавливаем столбцы и их названия\n",
    "    data = {\n",
    "        'pass_start_location_x': df['location_0'],\n",
    "        'pass_start_location_y': df['location_1'],\n",
    "        'pass_end_location_x': df['pass_end_location_0'],\n",
    "        'pass_end_location_y': df['pass_end_location_1'],\n",
    "        'pass_length': df['pass_length'],\n",
    "        'pass_angle': df['pass_angle'],\n",
    "        'pass_height_name': df['pass_height_name'],\n",
    "        'pass_body_part_name': df['pass_body_part_name'],\n",
    "        'pass_type_name': df['pass_type_name']\n",
    "    }\n",
    "    X = pd.DataFrame(data)\n",
    "    \n",
    "    # Так как есть столбцы не с числовыми значениями, сделаем one-hot кодирование\n",
    "    X = pd.get_dummies(X)\n",
    "    X.columns = [c.replace(' ', '_') for c in X.columns]\n",
    "    \n",
    "    return X"
   ]
  },
  {
   "cell_type": "code",
   "execution_count": 7,
   "id": "ddfc80b5",
   "metadata": {
    "scrolled": true
   },
   "outputs": [],
   "source": [
    "X = set_X(df_train)\n",
    "\n",
    "# Цель обучения -- предсказать столбец 'outcome_binary'\n",
    "y = df_train['outcome_binary']"
   ]
  },
  {
   "cell_type": "markdown",
   "id": "dbf89320",
   "metadata": {},
   "source": [
    "Разделим выборку на тестовую и тренировочную"
   ]
  },
  {
   "cell_type": "code",
   "execution_count": 8,
   "id": "a13bcc75",
   "metadata": {},
   "outputs": [],
   "source": [
    "from sklearn.model_selection import train_test_split\n",
    "\n",
    "X_train, X_test, y_train, y_test = train_test_split(X, y, train_size = 0.8, random_state = 42)"
   ]
  },
  {
   "cell_type": "code",
   "execution_count": 9,
   "id": "d0702c56",
   "metadata": {},
   "outputs": [
    {
     "data": {
      "text/html": [
       "<div>\n",
       "<style scoped>\n",
       "    .dataframe tbody tr th:only-of-type {\n",
       "        vertical-align: middle;\n",
       "    }\n",
       "\n",
       "    .dataframe tbody tr th {\n",
       "        vertical-align: top;\n",
       "    }\n",
       "\n",
       "    .dataframe thead th {\n",
       "        text-align: right;\n",
       "    }\n",
       "</style>\n",
       "<table border=\"1\" class=\"dataframe\">\n",
       "  <thead>\n",
       "    <tr style=\"text-align: right;\">\n",
       "      <th></th>\n",
       "      <th>pass_start_location_x</th>\n",
       "      <th>pass_start_location_y</th>\n",
       "      <th>pass_end_location_x</th>\n",
       "      <th>pass_end_location_y</th>\n",
       "      <th>pass_length</th>\n",
       "      <th>pass_angle</th>\n",
       "      <th>pass_height_name_Ground_Pass</th>\n",
       "      <th>pass_height_name_High_Pass</th>\n",
       "      <th>pass_height_name_Low_Pass</th>\n",
       "      <th>pass_body_part_name_Drop_Kick</th>\n",
       "      <th>pass_body_part_name_Head</th>\n",
       "      <th>pass_body_part_name_Keeper_Arm</th>\n",
       "      <th>pass_body_part_name_Left_Foot</th>\n",
       "      <th>pass_body_part_name_No_Touch</th>\n",
       "      <th>pass_body_part_name_Other</th>\n",
       "      <th>pass_body_part_name_Right_Foot</th>\n",
       "      <th>pass_type_name_Interception</th>\n",
       "      <th>pass_type_name_Recovery</th>\n",
       "    </tr>\n",
       "  </thead>\n",
       "  <tbody>\n",
       "    <tr>\n",
       "      <th>552373</th>\n",
       "      <td>65.0</td>\n",
       "      <td>46.9</td>\n",
       "      <td>54.3</td>\n",
       "      <td>37.3</td>\n",
       "      <td>14.375326</td>\n",
       "      <td>-2.410329</td>\n",
       "      <td>1</td>\n",
       "      <td>0</td>\n",
       "      <td>0</td>\n",
       "      <td>0</td>\n",
       "      <td>0</td>\n",
       "      <td>0</td>\n",
       "      <td>0</td>\n",
       "      <td>0</td>\n",
       "      <td>0</td>\n",
       "      <td>1</td>\n",
       "      <td>0</td>\n",
       "      <td>0</td>\n",
       "    </tr>\n",
       "    <tr>\n",
       "      <th>496901</th>\n",
       "      <td>13.7</td>\n",
       "      <td>36.9</td>\n",
       "      <td>17.6</td>\n",
       "      <td>22.1</td>\n",
       "      <td>15.305228</td>\n",
       "      <td>-1.313140</td>\n",
       "      <td>1</td>\n",
       "      <td>0</td>\n",
       "      <td>0</td>\n",
       "      <td>0</td>\n",
       "      <td>0</td>\n",
       "      <td>0</td>\n",
       "      <td>0</td>\n",
       "      <td>0</td>\n",
       "      <td>0</td>\n",
       "      <td>1</td>\n",
       "      <td>0</td>\n",
       "      <td>0</td>\n",
       "    </tr>\n",
       "    <tr>\n",
       "      <th>177066</th>\n",
       "      <td>5.4</td>\n",
       "      <td>42.4</td>\n",
       "      <td>18.3</td>\n",
       "      <td>56.9</td>\n",
       "      <td>19.407730</td>\n",
       "      <td>0.843726</td>\n",
       "      <td>1</td>\n",
       "      <td>0</td>\n",
       "      <td>0</td>\n",
       "      <td>0</td>\n",
       "      <td>0</td>\n",
       "      <td>0</td>\n",
       "      <td>0</td>\n",
       "      <td>0</td>\n",
       "      <td>0</td>\n",
       "      <td>1</td>\n",
       "      <td>0</td>\n",
       "      <td>0</td>\n",
       "    </tr>\n",
       "    <tr>\n",
       "      <th>1043847</th>\n",
       "      <td>91.4</td>\n",
       "      <td>46.8</td>\n",
       "      <td>84.1</td>\n",
       "      <td>49.2</td>\n",
       "      <td>7.684400</td>\n",
       "      <td>2.823957</td>\n",
       "      <td>1</td>\n",
       "      <td>0</td>\n",
       "      <td>0</td>\n",
       "      <td>0</td>\n",
       "      <td>0</td>\n",
       "      <td>0</td>\n",
       "      <td>1</td>\n",
       "      <td>0</td>\n",
       "      <td>0</td>\n",
       "      <td>0</td>\n",
       "      <td>0</td>\n",
       "      <td>0</td>\n",
       "    </tr>\n",
       "    <tr>\n",
       "      <th>448928</th>\n",
       "      <td>95.5</td>\n",
       "      <td>73.9</td>\n",
       "      <td>79.7</td>\n",
       "      <td>75.4</td>\n",
       "      <td>15.871043</td>\n",
       "      <td>3.046940</td>\n",
       "      <td>1</td>\n",
       "      <td>0</td>\n",
       "      <td>0</td>\n",
       "      <td>0</td>\n",
       "      <td>0</td>\n",
       "      <td>0</td>\n",
       "      <td>1</td>\n",
       "      <td>0</td>\n",
       "      <td>0</td>\n",
       "      <td>0</td>\n",
       "      <td>0</td>\n",
       "      <td>0</td>\n",
       "    </tr>\n",
       "    <tr>\n",
       "      <th>...</th>\n",
       "      <td>...</td>\n",
       "      <td>...</td>\n",
       "      <td>...</td>\n",
       "      <td>...</td>\n",
       "      <td>...</td>\n",
       "      <td>...</td>\n",
       "      <td>...</td>\n",
       "      <td>...</td>\n",
       "      <td>...</td>\n",
       "      <td>...</td>\n",
       "      <td>...</td>\n",
       "      <td>...</td>\n",
       "      <td>...</td>\n",
       "      <td>...</td>\n",
       "      <td>...</td>\n",
       "      <td>...</td>\n",
       "      <td>...</td>\n",
       "      <td>...</td>\n",
       "    </tr>\n",
       "    <tr>\n",
       "      <th>462931</th>\n",
       "      <td>45.3</td>\n",
       "      <td>24.6</td>\n",
       "      <td>55.4</td>\n",
       "      <td>9.1</td>\n",
       "      <td>18.500270</td>\n",
       "      <td>-0.993288</td>\n",
       "      <td>1</td>\n",
       "      <td>0</td>\n",
       "      <td>0</td>\n",
       "      <td>0</td>\n",
       "      <td>0</td>\n",
       "      <td>0</td>\n",
       "      <td>0</td>\n",
       "      <td>0</td>\n",
       "      <td>0</td>\n",
       "      <td>1</td>\n",
       "      <td>0</td>\n",
       "      <td>0</td>\n",
       "    </tr>\n",
       "    <tr>\n",
       "      <th>1004304</th>\n",
       "      <td>42.0</td>\n",
       "      <td>20.7</td>\n",
       "      <td>51.8</td>\n",
       "      <td>23.6</td>\n",
       "      <td>10.220078</td>\n",
       "      <td>0.287708</td>\n",
       "      <td>0</td>\n",
       "      <td>0</td>\n",
       "      <td>1</td>\n",
       "      <td>0</td>\n",
       "      <td>0</td>\n",
       "      <td>0</td>\n",
       "      <td>0</td>\n",
       "      <td>0</td>\n",
       "      <td>0</td>\n",
       "      <td>1</td>\n",
       "      <td>0</td>\n",
       "      <td>0</td>\n",
       "    </tr>\n",
       "    <tr>\n",
       "      <th>510870</th>\n",
       "      <td>79.6</td>\n",
       "      <td>18.5</td>\n",
       "      <td>80.0</td>\n",
       "      <td>34.1</td>\n",
       "      <td>15.605127</td>\n",
       "      <td>1.545161</td>\n",
       "      <td>0</td>\n",
       "      <td>0</td>\n",
       "      <td>1</td>\n",
       "      <td>0</td>\n",
       "      <td>0</td>\n",
       "      <td>0</td>\n",
       "      <td>0</td>\n",
       "      <td>0</td>\n",
       "      <td>0</td>\n",
       "      <td>0</td>\n",
       "      <td>0</td>\n",
       "      <td>1</td>\n",
       "    </tr>\n",
       "    <tr>\n",
       "      <th>567146</th>\n",
       "      <td>17.3</td>\n",
       "      <td>56.2</td>\n",
       "      <td>21.9</td>\n",
       "      <td>74.2</td>\n",
       "      <td>18.578482</td>\n",
       "      <td>1.320596</td>\n",
       "      <td>1</td>\n",
       "      <td>0</td>\n",
       "      <td>0</td>\n",
       "      <td>0</td>\n",
       "      <td>0</td>\n",
       "      <td>0</td>\n",
       "      <td>0</td>\n",
       "      <td>0</td>\n",
       "      <td>0</td>\n",
       "      <td>1</td>\n",
       "      <td>0</td>\n",
       "      <td>0</td>\n",
       "    </tr>\n",
       "    <tr>\n",
       "      <th>471317</th>\n",
       "      <td>75.1</td>\n",
       "      <td>71.7</td>\n",
       "      <td>92.6</td>\n",
       "      <td>67.7</td>\n",
       "      <td>17.951323</td>\n",
       "      <td>-0.224711</td>\n",
       "      <td>1</td>\n",
       "      <td>0</td>\n",
       "      <td>0</td>\n",
       "      <td>0</td>\n",
       "      <td>0</td>\n",
       "      <td>0</td>\n",
       "      <td>0</td>\n",
       "      <td>0</td>\n",
       "      <td>0</td>\n",
       "      <td>1</td>\n",
       "      <td>0</td>\n",
       "      <td>0</td>\n",
       "    </tr>\n",
       "  </tbody>\n",
       "</table>\n",
       "<p>275004 rows × 18 columns</p>\n",
       "</div>"
      ],
      "text/plain": [
       "         pass_start_location_x  pass_start_location_y  pass_end_location_x  \\\n",
       "552373                    65.0                   46.9                 54.3   \n",
       "496901                    13.7                   36.9                 17.6   \n",
       "177066                     5.4                   42.4                 18.3   \n",
       "1043847                   91.4                   46.8                 84.1   \n",
       "448928                    95.5                   73.9                 79.7   \n",
       "...                        ...                    ...                  ...   \n",
       "462931                    45.3                   24.6                 55.4   \n",
       "1004304                   42.0                   20.7                 51.8   \n",
       "510870                    79.6                   18.5                 80.0   \n",
       "567146                    17.3                   56.2                 21.9   \n",
       "471317                    75.1                   71.7                 92.6   \n",
       "\n",
       "         pass_end_location_y  pass_length  pass_angle  \\\n",
       "552373                  37.3    14.375326   -2.410329   \n",
       "496901                  22.1    15.305228   -1.313140   \n",
       "177066                  56.9    19.407730    0.843726   \n",
       "1043847                 49.2     7.684400    2.823957   \n",
       "448928                  75.4    15.871043    3.046940   \n",
       "...                      ...          ...         ...   \n",
       "462931                   9.1    18.500270   -0.993288   \n",
       "1004304                 23.6    10.220078    0.287708   \n",
       "510870                  34.1    15.605127    1.545161   \n",
       "567146                  74.2    18.578482    1.320596   \n",
       "471317                  67.7    17.951323   -0.224711   \n",
       "\n",
       "         pass_height_name_Ground_Pass  pass_height_name_High_Pass  \\\n",
       "552373                              1                           0   \n",
       "496901                              1                           0   \n",
       "177066                              1                           0   \n",
       "1043847                             1                           0   \n",
       "448928                              1                           0   \n",
       "...                               ...                         ...   \n",
       "462931                              1                           0   \n",
       "1004304                             0                           0   \n",
       "510870                              0                           0   \n",
       "567146                              1                           0   \n",
       "471317                              1                           0   \n",
       "\n",
       "         pass_height_name_Low_Pass  pass_body_part_name_Drop_Kick  \\\n",
       "552373                           0                              0   \n",
       "496901                           0                              0   \n",
       "177066                           0                              0   \n",
       "1043847                          0                              0   \n",
       "448928                           0                              0   \n",
       "...                            ...                            ...   \n",
       "462931                           0                              0   \n",
       "1004304                          1                              0   \n",
       "510870                           1                              0   \n",
       "567146                           0                              0   \n",
       "471317                           0                              0   \n",
       "\n",
       "         pass_body_part_name_Head  pass_body_part_name_Keeper_Arm  \\\n",
       "552373                          0                               0   \n",
       "496901                          0                               0   \n",
       "177066                          0                               0   \n",
       "1043847                         0                               0   \n",
       "448928                          0                               0   \n",
       "...                           ...                             ...   \n",
       "462931                          0                               0   \n",
       "1004304                         0                               0   \n",
       "510870                          0                               0   \n",
       "567146                          0                               0   \n",
       "471317                          0                               0   \n",
       "\n",
       "         pass_body_part_name_Left_Foot  pass_body_part_name_No_Touch  \\\n",
       "552373                               0                             0   \n",
       "496901                               0                             0   \n",
       "177066                               0                             0   \n",
       "1043847                              1                             0   \n",
       "448928                               1                             0   \n",
       "...                                ...                           ...   \n",
       "462931                               0                             0   \n",
       "1004304                              0                             0   \n",
       "510870                               0                             0   \n",
       "567146                               0                             0   \n",
       "471317                               0                             0   \n",
       "\n",
       "         pass_body_part_name_Other  pass_body_part_name_Right_Foot  \\\n",
       "552373                           0                               1   \n",
       "496901                           0                               1   \n",
       "177066                           0                               1   \n",
       "1043847                          0                               0   \n",
       "448928                           0                               0   \n",
       "...                            ...                             ...   \n",
       "462931                           0                               1   \n",
       "1004304                          0                               1   \n",
       "510870                           0                               0   \n",
       "567146                           0                               1   \n",
       "471317                           0                               1   \n",
       "\n",
       "         pass_type_name_Interception  pass_type_name_Recovery  \n",
       "552373                             0                        0  \n",
       "496901                             0                        0  \n",
       "177066                             0                        0  \n",
       "1043847                            0                        0  \n",
       "448928                             0                        0  \n",
       "...                              ...                      ...  \n",
       "462931                             0                        0  \n",
       "1004304                            0                        0  \n",
       "510870                             0                        1  \n",
       "567146                             0                        0  \n",
       "471317                             0                        0  \n",
       "\n",
       "[275004 rows x 18 columns]"
      ]
     },
     "execution_count": 9,
     "metadata": {},
     "output_type": "execute_result"
    }
   ],
   "source": [
    "X_train"
   ]
  },
  {
   "cell_type": "code",
   "execution_count": 10,
   "id": "a04ac833",
   "metadata": {},
   "outputs": [
    {
     "data": {
      "text/plain": [
       "552373     1.0\n",
       "496901     1.0\n",
       "177066     1.0\n",
       "1043847    1.0\n",
       "448928     1.0\n",
       "          ... \n",
       "462931     1.0\n",
       "1004304    1.0\n",
       "510870     0.0\n",
       "567146     1.0\n",
       "471317     1.0\n",
       "Name: outcome_binary, Length: 275004, dtype: float64"
      ]
     },
     "execution_count": 10,
     "metadata": {},
     "output_type": "execute_result"
    }
   ],
   "source": [
    "y_train"
   ]
  },
  {
   "cell_type": "markdown",
   "id": "a4350f45",
   "metadata": {},
   "source": [
    "Посмотрим, сбалансированная ли получилась тренировочная выборка"
   ]
  },
  {
   "cell_type": "code",
   "execution_count": 11,
   "id": "712645d7",
   "metadata": {},
   "outputs": [
    {
     "data": {
      "text/plain": [
       "1.0    0.819799\n",
       "0.0    0.180201\n",
       "Name: outcome_binary, dtype: float64"
      ]
     },
     "execution_count": 11,
     "metadata": {},
     "output_type": "execute_result"
    }
   ],
   "source": [
    "y_train.value_counts(normalize=True)"
   ]
  },
  {
   "cell_type": "markdown",
   "id": "5670ebe4",
   "metadata": {},
   "source": [
    "Очень не сбалансированная. Тогда сразу подберём гиперпараметер scale_pos_weight"
   ]
  },
  {
   "cell_type": "code",
   "execution_count": 12,
   "id": "a2c063f8",
   "metadata": {},
   "outputs": [
    {
     "data": {
      "text/plain": [
       "225448"
      ]
     },
     "execution_count": 12,
     "metadata": {},
     "output_type": "execute_result"
    }
   ],
   "source": [
    "total_positive = y_train[y_train == 1.0].shape[0]\n",
    "total_positive"
   ]
  },
  {
   "cell_type": "code",
   "execution_count": 13,
   "id": "d33fe887",
   "metadata": {},
   "outputs": [
    {
     "data": {
      "text/plain": [
       "49556"
      ]
     },
     "execution_count": 13,
     "metadata": {},
     "output_type": "execute_result"
    }
   ],
   "source": [
    "total_negative = y_train[y_train == 0.0].shape[0]\n",
    "total_negative"
   ]
  },
  {
   "cell_type": "code",
   "execution_count": 14,
   "id": "39ea9e27",
   "metadata": {},
   "outputs": [
    {
     "data": {
      "text/plain": [
       "0.2198112203257514"
      ]
     },
     "execution_count": 14,
     "metadata": {},
     "output_type": "execute_result"
    }
   ],
   "source": [
    "scale_pos_weight_parameter = total_negative / total_positive\n",
    "scale_pos_weight_parameter"
   ]
  },
  {
   "cell_type": "code",
   "execution_count": 16,
   "id": "cbe1a565",
   "metadata": {},
   "outputs": [],
   "source": [
    "from sklearn import metrics\n",
    "\n",
    "# Функция для моделирования и кросс-валидации\n",
    "def modelfit(alg, X_train, X_test, y_train, y_test, useTrainCV=True, cv_folds=5, early_stopping_rounds=50):\n",
    "    \n",
    "    if useTrainCV:\n",
    "        xgb_param = alg.get_xgb_params()\n",
    "        xg_train = xgb.DMatrix(X_train.values, label = y_train.values)\n",
    "        xg_test = xgb.DMatrix(X_test.values)\n",
    "        # Кросс-валидация.\n",
    "        cvresult = xgb.cv(xgb_param, xg_train, num_boost_round = alg.get_params()['n_estimators'], nfold = cv_folds,\n",
    "                          metrics = 'auc', early_stopping_rounds = early_stopping_rounds) \n",
    "        alg.set_params(n_estimators = cvresult.shape[0])\n",
    "    \n",
    "    # Fit the algorithm on the data.\n",
    "    alg.fit(X_train, y_train, eval_metric = 'auc')\n",
    "        \n",
    "    # Predict training set.\n",
    "    dtrain_predictions = alg.predict(X_train)\n",
    "    dtrain_predprob = alg.predict_proba(X_train)[:,1]\n",
    "        \n",
    "    # Print model report.\n",
    "    print(\"\\nModel Report\")\n",
    "    print(\"Accuracy : %.4g\" % metrics.accuracy_score(y_train.values, dtrain_predictions))\n",
    "    print(\"AUC Score (Train): %f\" % metrics.roc_auc_score(y_train, dtrain_predprob))\n",
    "    \n",
    "    # Predict on testing data.\n",
    "    X_test['predprob'] = alg.predict_proba(X_test)[:,1]\n",
    "    print('AUC Score (Test): %f' % metrics.roc_auc_score(y_test, X_test['predprob']))\n",
    "    \n",
    "    # Важность признаков.\n",
    "    feat_imp = pd.Series(alg.get_booster().get_fscore()).sort_values(ascending = False)\n",
    "    feat_imp.plot(kind = 'bar', title = 'Feature Importances')\n",
    "    plot.ylabel('Feature Importance Score')"
   ]
  },
  {
   "cell_type": "code",
   "execution_count": 18,
   "id": "d4e4ac31",
   "metadata": {},
   "outputs": [
    {
     "name": "stdout",
     "output_type": "stream",
     "text": [
      "\n",
      "Model Report\n",
      "Accuracy : 0.8614\n",
      "AUC Score (Train): 0.935924\n",
      "AUC Score (Test): 0.929497\n"
     ]
    },
    {
     "data": {
      "image/png": "[encoded data removed]",
      "text/plain": [
       "<Figure size 432x288 with 1 Axes>"
      ]
     },
     "metadata": {
      "needs_background": "light"
     },
     "output_type": "display_data"
    }
   ],
   "source": [
    "# Первоначальные параметры зададим такими:\n",
    "xgb1 = XGBClassifier(\n",
    "    learning_rate = 0.1,\n",
    "    n_estimators = 1000,\n",
    "    max_depth = 5,\n",
    "    min_child_weight = 1,\n",
    "    gamma = 0,\n",
    "    subsample = 0.8,\n",
    "    colsample_bytree = 0.8,\n",
    "    objective = 'binary:logistic',\n",
    "    nthread = 4,\n",
    "    scale_pos_weight = scale_pos_weight_parameter,\n",
    "    seed = 27,\n",
    "    use_label_encoder = False)\n",
    "modelfit(xgb1, X_train, X_test, y_train, y_test)\n",
    "\n",
    "X_test = X_test.drop([x for x in ['predprob'] if x in X_test.columns], axis=1)"
   ]
  },
  {
   "cell_type": "markdown",
   "id": "9119deff",
   "metadata": {},
   "source": [
    "Подберём гиперпараметры"
   ]
  },
  {
   "cell_type": "code",
   "execution_count": 19,
   "id": "6bdbf017",
   "metadata": {},
   "outputs": [
    {
     "name": "stdout",
     "output_type": "stream",
     "text": [
      "[14:54:18] WARNING: C:/Users/Administrator/workspace/xgboost-win64_release_1.5.1/src/learner.cc:1115: Starting in XGBoost 1.3.0, the default evaluation metric used with the objective 'binary:logistic' was changed from 'error' to 'logloss'. Explicitly set eval_metric if you'd like to restore the old behavior.\n"
     ]
    },
    {
     "data": {
      "text/plain": [
       "GridSearchCV(cv=5,\n",
       "             estimator=XGBClassifier(base_score=None, booster=None,\n",
       "                                     colsample_bylevel=None,\n",
       "                                     colsample_bynode=None,\n",
       "                                     colsample_bytree=0.8,\n",
       "                                     enable_categorical=False, gamma=0,\n",
       "                                     gpu_id=None, importance_type=None,\n",
       "                                     interaction_constraints=None,\n",
       "                                     learning_rate=0.1, max_delta_step=None,\n",
       "                                     max_depth=5, min_child_weight=1,\n",
       "                                     missing=nan, monotone_constraints=None,\n",
       "                                     n_estimators=140, n_jobs=None, nthread=4,\n",
       "                                     num_parallel_tree=None, predictor=None,\n",
       "                                     random_state=None, reg_alpha=None,\n",
       "                                     reg_lambda=None,\n",
       "                                     scale_pos_weight=0.2198112203257514,\n",
       "                                     seed=27, subsample=0.8, tree_method=None,\n",
       "                                     use_label_encoder=False,\n",
       "                                     validate_parameters=None, ...),\n",
       "             n_jobs=4,\n",
       "             param_grid={'max_depth': range(3, 10, 2),\n",
       "                         'min_child_weight': range(1, 6, 2)},\n",
       "             scoring='roc_auc')"
      ]
     },
     "execution_count": 19,
     "metadata": {},
     "output_type": "execute_result"
    }
   ],
   "source": [
    "from sklearn.model_selection import GridSearchCV\n",
    "\n",
    "# Начнём с самых значимых: max_depth и min_child_weight\n",
    "param_test_1 = {\n",
    "    'max_depth': range(3, 10, 2),\n",
    "    'min_child_weight': range(1, 6, 2)\n",
    "}\n",
    "gsearch_1 = GridSearchCV(estimator = XGBClassifier(\n",
    "    learning_rate = 0.1,\n",
    "    n_estimators = 140, # взяла поменьше, чтобы обучался быстрее\n",
    "    max_depth = 5,\n",
    "    min_child_weight = 1,\n",
    "    gamma = 0,\n",
    "    subsample = 0.8,\n",
    "    colsample_bytree = 0.8,\n",
    "    objective = 'binary:logistic',\n",
    "    nthread = 4,\n",
    "    scale_pos_weight = scale_pos_weight_parameter,\n",
    "    seed = 27,\n",
    "    use_label_encoder = False), param_grid = param_test_1, scoring = 'roc_auc', n_jobs = 4, cv=5)\n",
    "\n",
    "gsearch_1.fit(X_train, y_train)"
   ]
  },
  {
   "cell_type": "code",
   "execution_count": 20,
   "id": "d9bd6cac",
   "metadata": {},
   "outputs": [
    {
     "data": {
      "text/plain": [
       "(array([0.91777036, 0.91790765, 0.91779991, 0.92450195, 0.92446899,\n",
       "        0.92442878, 0.92631321, 0.92636502, 0.9264042 , 0.92632546,\n",
       "        0.92659559, 0.92659207]),\n",
       " [{'max_depth': 3, 'min_child_weight': 1},\n",
       "  {'max_depth': 3, 'min_child_weight': 3},\n",
       "  {'max_depth': 3, 'min_child_weight': 5},\n",
       "  {'max_depth': 5, 'min_child_weight': 1},\n",
       "  {'max_depth': 5, 'min_child_weight': 3},\n",
       "  {'max_depth': 5, 'min_child_weight': 5},\n",
       "  {'max_depth': 7, 'min_child_weight': 1},\n",
       "  {'max_depth': 7, 'min_child_weight': 3},\n",
       "  {'max_depth': 7, 'min_child_weight': 5},\n",
       "  {'max_depth': 9, 'min_child_weight': 1},\n",
       "  {'max_depth': 9, 'min_child_weight': 3},\n",
       "  {'max_depth': 9, 'min_child_weight': 5}])"
      ]
     },
     "execution_count": 20,
     "metadata": {},
     "output_type": "execute_result"
    }
   ],
   "source": [
    "gsearch_1.cv_results_['mean_test_score'], gsearch_1.cv_results_['params']"
   ]
  },
  {
   "cell_type": "code",
   "execution_count": 21,
   "id": "53caa5dc",
   "metadata": {},
   "outputs": [
    {
     "name": "stdout",
     "output_type": "stream",
     "text": [
      "The best parameters: {'max_depth': 9, 'min_child_weight': 3}\n",
      "The best score: 0.9265955932230296\n"
     ]
    }
   ],
   "source": [
    "print('The best parameters:', gsearch_1.best_params_)\n",
    "print('The best score:', gsearch_1.best_score_)"
   ]
  },
  {
   "cell_type": "markdown",
   "id": "ccd0ba19",
   "metadata": {},
   "source": [
    "Попробуем улучшить модель, взяв эти же параметры в окрестностях полученных лучших результатах. Т.е. 'max_depth' будем менять в окрестностях 9, а 'min_child_weight' в окрестностях 3"
   ]
  },
  {
   "cell_type": "code",
   "execution_count": 22,
   "id": "3cb82635",
   "metadata": {},
   "outputs": [
    {
     "name": "stdout",
     "output_type": "stream",
     "text": [
      "[15:14:54] WARNING: C:/Users/Administrator/workspace/xgboost-win64_release_1.5.1/src/learner.cc:1115: Starting in XGBoost 1.3.0, the default evaluation metric used with the objective 'binary:logistic' was changed from 'error' to 'logloss'. Explicitly set eval_metric if you'd like to restore the old behavior.\n"
     ]
    },
    {
     "data": {
      "text/plain": [
       "GridSearchCV(cv=5,\n",
       "             estimator=XGBClassifier(base_score=None, booster=None,\n",
       "                                     colsample_bylevel=None,\n",
       "                                     colsample_bynode=None,\n",
       "                                     colsample_bytree=0.8,\n",
       "                                     enable_categorical=False, gamma=0,\n",
       "                                     gpu_id=None, importance_type=None,\n",
       "                                     interaction_constraints=None,\n",
       "                                     learning_rate=0.1, max_delta_step=None,\n",
       "                                     max_depth=8, min_child_weight=2,\n",
       "                                     missing=nan, monotone_constraints=None,\n",
       "                                     n_estimators=140, n_jobs=None, nthread=4,\n",
       "                                     num_parallel_tree=None, predictor=None,\n",
       "                                     random_state=None, reg_alpha=None,\n",
       "                                     reg_lambda=None,\n",
       "                                     scale_pos_weight=0.2198112203257514,\n",
       "                                     seed=27, subsample=0.8, tree_method=None,\n",
       "                                     use_label_encoder=False,\n",
       "                                     validate_parameters=None, ...),\n",
       "             n_jobs=4,\n",
       "             param_grid={'max_depth': [8, 9, 10, 11],\n",
       "                         'min_child_weight': [2, 3, 4]},\n",
       "             scoring='roc_auc')"
      ]
     },
     "execution_count": 22,
     "metadata": {},
     "output_type": "execute_result"
    }
   ],
   "source": [
    "param_test_2 = {\n",
    "    'max_depth': [8, 9, 10, 11],\n",
    "    'min_child_weight': [2, 3, 4]\n",
    "}\n",
    "gsearch_2 = GridSearchCV(estimator = XGBClassifier(\n",
    "    learning_rate = 0.1,\n",
    "    n_estimators = 140, # взяла поменьше, чтобы обучался быстрее\n",
    "    max_depth = 8,\n",
    "    min_child_weight = 2,\n",
    "    gamma = 0,\n",
    "    subsample = 0.8,\n",
    "    colsample_bytree = 0.8,\n",
    "    objective = 'binary:logistic',\n",
    "    nthread = 4,\n",
    "    scale_pos_weight = scale_pos_weight_parameter,\n",
    "    seed = 27,\n",
    "    use_label_encoder = False), param_grid = param_test_2, scoring = 'roc_auc', n_jobs = 4, cv=5)\n",
    "\n",
    "gsearch_2.fit(X_train, y_train)"
   ]
  },
  {
   "cell_type": "code",
   "execution_count": 23,
   "id": "22c1730a",
   "metadata": {},
   "outputs": [
    {
     "data": {
      "text/plain": [
       "(array([0.92655248, 0.926742  , 0.92673509, 0.92647648, 0.92659559,\n",
       "        0.92656597, 0.92617918, 0.92643518, 0.92633682, 0.92592362,\n",
       "        0.92610126, 0.92611439]),\n",
       " [{'max_depth': 8, 'min_child_weight': 2},\n",
       "  {'max_depth': 8, 'min_child_weight': 3},\n",
       "  {'max_depth': 8, 'min_child_weight': 4},\n",
       "  {'max_depth': 9, 'min_child_weight': 2},\n",
       "  {'max_depth': 9, 'min_child_weight': 3},\n",
       "  {'max_depth': 9, 'min_child_weight': 4},\n",
       "  {'max_depth': 10, 'min_child_weight': 2},\n",
       "  {'max_depth': 10, 'min_child_weight': 3},\n",
       "  {'max_depth': 10, 'min_child_weight': 4},\n",
       "  {'max_depth': 11, 'min_child_weight': 2},\n",
       "  {'max_depth': 11, 'min_child_weight': 3},\n",
       "  {'max_depth': 11, 'min_child_weight': 4}])"
      ]
     },
     "execution_count": 23,
     "metadata": {},
     "output_type": "execute_result"
    }
   ],
   "source": [
    "gsearch_2.cv_results_['mean_test_score'], gsearch_2.cv_results_['params']"
   ]
  },
  {
   "cell_type": "code",
   "execution_count": 24,
   "id": "36c60a04",
   "metadata": {},
   "outputs": [
    {
     "name": "stdout",
     "output_type": "stream",
     "text": [
      "The best parameters: {'max_depth': 8, 'min_child_weight': 3}\n",
      "The best score: 0.9267420031621929\n"
     ]
    }
   ],
   "source": [
    "print('The best parameters:', gsearch_2.best_params_)\n",
    "print('The best score:', gsearch_2.best_score_)"
   ]
  },
  {
   "cell_type": "markdown",
   "id": "39c6ebe3",
   "metadata": {},
   "source": [
    "В итоге установим: 'max_depth' = 8, 'min_child_weight' = 3\n",
    "\n",
    "Теперь подберём 'gamma', используя найденные параметры"
   ]
  },
  {
   "cell_type": "code",
   "execution_count": 25,
   "id": "834642ce",
   "metadata": {},
   "outputs": [
    {
     "name": "stdout",
     "output_type": "stream",
     "text": [
      "[15:22:50] WARNING: C:/Users/Administrator/workspace/xgboost-win64_release_1.5.1/src/learner.cc:1115: Starting in XGBoost 1.3.0, the default evaluation metric used with the objective 'binary:logistic' was changed from 'error' to 'logloss'. Explicitly set eval_metric if you'd like to restore the old behavior.\n"
     ]
    },
    {
     "data": {
      "text/plain": [
       "GridSearchCV(cv=5,\n",
       "             estimator=XGBClassifier(base_score=None, booster=None,\n",
       "                                     colsample_bylevel=None,\n",
       "                                     colsample_bynode=None,\n",
       "                                     colsample_bytree=0.8,\n",
       "                                     enable_categorical=False, gamma=0,\n",
       "                                     gpu_id=None, importance_type=None,\n",
       "                                     interaction_constraints=None,\n",
       "                                     learning_rate=0.1, max_delta_step=None,\n",
       "                                     max_depth=8, min_child_weight=3,\n",
       "                                     missing=nan, monotone_constraints=None,\n",
       "                                     n_estimators=140, n_jobs=None, nthread=4,\n",
       "                                     num_parallel_tree=None, predictor=None,\n",
       "                                     random_state=None, reg_alpha=None,\n",
       "                                     reg_lambda=None,\n",
       "                                     scale_pos_weight=0.2198112203257514,\n",
       "                                     seed=27, subsample=0.8, tree_method=None,\n",
       "                                     use_label_encoder=False,\n",
       "                                     validate_parameters=None, ...),\n",
       "             n_jobs=4, param_grid={'gamma': [0.0, 0.1, 0.2, 0.3, 0.4]},\n",
       "             scoring='roc_auc')"
      ]
     },
     "execution_count": 25,
     "metadata": {},
     "output_type": "execute_result"
    }
   ],
   "source": [
    "param_test_3 = {\n",
    "    'gamma': [i / 10.0 for i in range(0, 5)]\n",
    "}\n",
    "gsearch_3 = GridSearchCV(estimator = XGBClassifier(\n",
    "    learning_rate = 0.1,\n",
    "    n_estimators = 140,\n",
    "    max_depth = 8,\n",
    "    min_child_weight = 3,\n",
    "    gamma = 0,\n",
    "    subsample = 0.8,\n",
    "    colsample_bytree = 0.8,\n",
    "    objective = 'binary:logistic',\n",
    "    nthread = 4,\n",
    "    scale_pos_weight = scale_pos_weight_parameter,\n",
    "    seed = 27,\n",
    "    use_label_encoder = False), param_grid = param_test_3, scoring = 'roc_auc', n_jobs = 4, cv=5)\n",
    "\n",
    "gsearch_3.fit(X_train, y_train)"
   ]
  },
  {
   "cell_type": "code",
   "execution_count": 26,
   "id": "c825ec58",
   "metadata": {},
   "outputs": [
    {
     "data": {
      "text/plain": [
       "(array([0.926742  , 0.92673293, 0.92676569, 0.92671255, 0.92673084]),\n",
       " [{'gamma': 0.0},\n",
       "  {'gamma': 0.1},\n",
       "  {'gamma': 0.2},\n",
       "  {'gamma': 0.3},\n",
       "  {'gamma': 0.4}])"
      ]
     },
     "execution_count": 26,
     "metadata": {},
     "output_type": "execute_result"
    }
   ],
   "source": [
    "gsearch_3.cv_results_['mean_test_score'], gsearch_3.cv_results_['params']"
   ]
  },
  {
   "cell_type": "code",
   "execution_count": 27,
   "id": "66e6d64a",
   "metadata": {},
   "outputs": [
    {
     "name": "stdout",
     "output_type": "stream",
     "text": [
      "The best parameters: {'gamma': 0.2}\n",
      "The best score: 0.9267656921604075\n"
     ]
    }
   ],
   "source": [
    "print('The best parameters:', gsearch_3.best_params_)\n",
    "print('The best score:', gsearch_3.best_score_)"
   ]
  },
  {
   "cell_type": "markdown",
   "id": "426d1255",
   "metadata": {},
   "source": [
    "Лучший результат при 'gamma', равной 0.2, поэтому оставим её такой. Произведём промежуточное вычисление на тестовой выборке с найденными параметрами"
   ]
  },
  {
   "cell_type": "code",
   "execution_count": 19,
   "id": "789a195b",
   "metadata": {},
   "outputs": [
    {
     "name": "stdout",
     "output_type": "stream",
     "text": [
      "\n",
      "Model Report\n",
      "Accuracy : 0.8642\n",
      "AUC Score (Train): 0.939868\n",
      "AUC Score (Test): 0.930038\n"
     ]
    },
    {
     "data": {
      "image/png": "[encoded data removed]",
      "text/plain": [
       "<Figure size 432x288 with 1 Axes>"
      ]
     },
     "metadata": {
      "needs_background": "light"
     },
     "output_type": "display_data"
    }
   ],
   "source": [
    "xgb2 = XGBClassifier(\n",
    "    learning_rate = 0.1,\n",
    "    n_estimators = 1000,\n",
    "    max_depth = 8,\n",
    "    min_child_weight = 3,\n",
    "    gamma = 0.2,\n",
    "    subsample = 0.8,\n",
    "    colsample_bytree = 0.8,\n",
    "    objective = 'binary:logistic',\n",
    "    nthread = 4,\n",
    "    scale_pos_weight = scale_pos_weight_parameter,\n",
    "    seed = 27,\n",
    "    use_label_encoder = False)\n",
    "modelfit(xgb2, X_train, X_test, y_train, y_test)\n",
    "\n",
    "X_test = X_test.drop([x for x in ['predprob'] if x in X_test.columns], axis=1)"
   ]
  },
  {
   "cell_type": "markdown",
   "id": "a9ec2b9b",
   "metadata": {},
   "source": [
    "Accuracy выросло: с 0.8614 до 0.8642\n",
    "\n",
    "AUC на тренировочной: с 0.935924 до 0.939868\n",
    "\n",
    "AUC на тестовой: с 0.929497 до 0.930038"
   ]
  },
  {
   "cell_type": "markdown",
   "id": "4723cdeb",
   "metadata": {},
   "source": [
    "Теперь определим 'subsample' и 'colsample_bytree'"
   ]
  },
  {
   "cell_type": "code",
   "execution_count": 47,
   "id": "d73ea0f6",
   "metadata": {},
   "outputs": [
    {
     "name": "stdout",
     "output_type": "stream",
     "text": [
      "[20:26:26] WARNING: C:/Users/Administrator/workspace/xgboost-win64_release_1.5.1/src/learner.cc:1115: Starting in XGBoost 1.3.0, the default evaluation metric used with the objective 'binary:logistic' was changed from 'error' to 'logloss'. Explicitly set eval_metric if you'd like to restore the old behavior.\n"
     ]
    },
    {
     "data": {
      "text/plain": [
       "GridSearchCV(cv=5,\n",
       "             estimator=XGBClassifier(base_score=None, booster=None,\n",
       "                                     colsample_bylevel=None,\n",
       "                                     colsample_bynode=None,\n",
       "                                     colsample_bytree=0.8,\n",
       "                                     enable_categorical=False, gamma=0.2,\n",
       "                                     gpu_id=None, importance_type=None,\n",
       "                                     interaction_constraints=None,\n",
       "                                     learning_rate=0.1, max_delta_step=None,\n",
       "                                     max_depth=8, min_child_weight=3,\n",
       "                                     missing=nan, monotone_constraints=None,\n",
       "                                     n_estimators=140, n_jobs=None, nthread=4,\n",
       "                                     num_parallel_tree=None, predictor=None,\n",
       "                                     random_state=None, reg_alpha=None,\n",
       "                                     reg_lambda=None,\n",
       "                                     scale_pos_weight=0.2198112203257514,\n",
       "                                     seed=27, subsample=0.8, tree_method=None,\n",
       "                                     use_label_encoder=False,\n",
       "                                     validate_parameters=None, ...),\n",
       "             n_jobs=4,\n",
       "             param_grid={'colsample_bytree': [0.6, 0.7, 0.8, 0.9],\n",
       "                         'subsample': [0.6, 0.7, 0.8, 0.9]},\n",
       "             scoring='roc_auc')"
      ]
     },
     "execution_count": 47,
     "metadata": {},
     "output_type": "execute_result"
    }
   ],
   "source": [
    "param_test_4 = {\n",
    "    'subsample': [i / 10.0 for i in range(6, 10)],\n",
    "    'colsample_bytree': [i / 10.0 for i in range(6, 10)]\n",
    "}\n",
    "gsearch_4 = GridSearchCV(estimator = XGBClassifier(\n",
    "    learning_rate = 0.1,\n",
    "    n_estimators = 140,\n",
    "    max_depth = 8,\n",
    "    min_child_weight = 3,\n",
    "    gamma = 0.2,\n",
    "    subsample = 0.8,\n",
    "    colsample_bytree = 0.8,\n",
    "    objective = 'binary:logistic',\n",
    "    nthread = 4,\n",
    "    scale_pos_weight = scale_pos_weight_parameter,\n",
    "    seed = 27,\n",
    "    use_label_encoder = False), param_grid = param_test_4, scoring = 'roc_auc', n_jobs = 4, cv=5)\n",
    "\n",
    "gsearch_4.fit(X_train, y_train)"
   ]
  },
  {
   "cell_type": "code",
   "execution_count": 48,
   "id": "06788ab3",
   "metadata": {},
   "outputs": [
    {
     "data": {
      "text/plain": [
       "(array([0.92627036, 0.92616272, 0.92644373, 0.92647838, 0.92650073,\n",
       "        0.92643657, 0.92663523, 0.92657192, 0.92654113, 0.92659291,\n",
       "        0.92676569, 0.9266688 , 0.92646372, 0.92667343, 0.92673694,\n",
       "        0.92684769]),\n",
       " [{'colsample_bytree': 0.6, 'subsample': 0.6},\n",
       "  {'colsample_bytree': 0.6, 'subsample': 0.7},\n",
       "  {'colsample_bytree': 0.6, 'subsample': 0.8},\n",
       "  {'colsample_bytree': 0.6, 'subsample': 0.9},\n",
       "  {'colsample_bytree': 0.7, 'subsample': 0.6},\n",
       "  {'colsample_bytree': 0.7, 'subsample': 0.7},\n",
       "  {'colsample_bytree': 0.7, 'subsample': 0.8},\n",
       "  {'colsample_bytree': 0.7, 'subsample': 0.9},\n",
       "  {'colsample_bytree': 0.8, 'subsample': 0.6},\n",
       "  {'colsample_bytree': 0.8, 'subsample': 0.7},\n",
       "  {'colsample_bytree': 0.8, 'subsample': 0.8},\n",
       "  {'colsample_bytree': 0.8, 'subsample': 0.9},\n",
       "  {'colsample_bytree': 0.9, 'subsample': 0.6},\n",
       "  {'colsample_bytree': 0.9, 'subsample': 0.7},\n",
       "  {'colsample_bytree': 0.9, 'subsample': 0.8},\n",
       "  {'colsample_bytree': 0.9, 'subsample': 0.9}])"
      ]
     },
     "execution_count": 48,
     "metadata": {},
     "output_type": "execute_result"
    }
   ],
   "source": [
    "gsearch_4.cv_results_['mean_test_score'], gsearch_4.cv_results_['params']"
   ]
  },
  {
   "cell_type": "code",
   "execution_count": 49,
   "id": "a3958d13",
   "metadata": {},
   "outputs": [
    {
     "name": "stdout",
     "output_type": "stream",
     "text": [
      "The best parameters: {'colsample_bytree': 0.9, 'subsample': 0.9}\n",
      "The best score: 0.9268476867019821\n"
     ]
    }
   ],
   "source": [
    "print('The best parameters:', gsearch_4.best_params_)\n",
    "print('The best score:', gsearch_4.best_score_)"
   ]
  },
  {
   "cell_type": "markdown",
   "id": "ff7d61cc",
   "metadata": {},
   "source": [
    "Лучшие значения получили на 'colsample_bytree' = 0.9, 'subsample' = 0.9. Теперь попробуем значения, близкие к 0.9 и отличающиеся на 0.05"
   ]
  },
  {
   "cell_type": "code",
   "execution_count": 50,
   "id": "9addb7e4",
   "metadata": {},
   "outputs": [
    {
     "name": "stdout",
     "output_type": "stream",
     "text": [
      "[20:49:37] WARNING: C:/Users/Administrator/workspace/xgboost-win64_release_1.5.1/src/learner.cc:1115: Starting in XGBoost 1.3.0, the default evaluation metric used with the objective 'binary:logistic' was changed from 'error' to 'logloss'. Explicitly set eval_metric if you'd like to restore the old behavior.\n"
     ]
    },
    {
     "data": {
      "text/plain": [
       "GridSearchCV(cv=5,\n",
       "             estimator=XGBClassifier(base_score=None, booster=None,\n",
       "                                     colsample_bylevel=None,\n",
       "                                     colsample_bynode=None,\n",
       "                                     colsample_bytree=0.85,\n",
       "                                     enable_categorical=False, gamma=0.2,\n",
       "                                     gpu_id=None, importance_type=None,\n",
       "                                     interaction_constraints=None,\n",
       "                                     learning_rate=0.1, max_delta_step=None,\n",
       "                                     max_depth=8, min_child_weight=3,\n",
       "                                     missing=nan, monotone_constraints=None,\n",
       "                                     n_estimators=140, n_jobs=None, nthread=4,\n",
       "                                     num_parallel_tree=None, predictor=None,\n",
       "                                     random_state=None, reg_alpha=None,\n",
       "                                     reg_lambda=None,\n",
       "                                     scale_pos_weight=0.2198112203257514,\n",
       "                                     seed=27, subsample=0.85, tree_method=None,\n",
       "                                     use_label_encoder=False,\n",
       "                                     validate_parameters=None, ...),\n",
       "             n_jobs=4,\n",
       "             param_grid={'colsample_bytree': [0.85, 0.9, 0.95],\n",
       "                         'subsample': [0.85, 0.9, 0.95]},\n",
       "             scoring='roc_auc')"
      ]
     },
     "execution_count": 50,
     "metadata": {},
     "output_type": "execute_result"
    }
   ],
   "source": [
    "param_test_5 = {\n",
    "    'subsample': [i / 100.0 for i in range(85, 100, 5)],\n",
    "    'colsample_bytree': [i / 100.0 for i in range(85, 100, 5)]\n",
    "}\n",
    "gsearch_5 = GridSearchCV(estimator = XGBClassifier(\n",
    "    learning_rate = 0.1,\n",
    "    n_estimators = 140,\n",
    "    max_depth = 8,\n",
    "    min_child_weight = 3,\n",
    "    gamma = 0.2,\n",
    "    subsample = 0.85,\n",
    "    colsample_bytree = 0.85,\n",
    "    objective = 'binary:logistic',\n",
    "    nthread = 4,\n",
    "    scale_pos_weight = scale_pos_weight_parameter,\n",
    "    seed = 27,\n",
    "    use_label_encoder = False), param_grid = param_test_5, scoring = 'roc_auc', n_jobs = 4, cv=5)\n",
    "\n",
    "gsearch_5.fit(X_train, y_train)"
   ]
  },
  {
   "cell_type": "code",
   "execution_count": 51,
   "id": "0f0eefe2",
   "metadata": {},
   "outputs": [
    {
     "data": {
      "text/plain": [
       "(array([0.9265688 , 0.92673687, 0.92664177, 0.92678485, 0.92684769,\n",
       "        0.9266561 , 0.92673907, 0.92671935, 0.92659767]),\n",
       " [{'colsample_bytree': 0.85, 'subsample': 0.85},\n",
       "  {'colsample_bytree': 0.85, 'subsample': 0.9},\n",
       "  {'colsample_bytree': 0.85, 'subsample': 0.95},\n",
       "  {'colsample_bytree': 0.9, 'subsample': 0.85},\n",
       "  {'colsample_bytree': 0.9, 'subsample': 0.9},\n",
       "  {'colsample_bytree': 0.9, 'subsample': 0.95},\n",
       "  {'colsample_bytree': 0.95, 'subsample': 0.85},\n",
       "  {'colsample_bytree': 0.95, 'subsample': 0.9},\n",
       "  {'colsample_bytree': 0.95, 'subsample': 0.95}])"
      ]
     },
     "execution_count": 51,
     "metadata": {},
     "output_type": "execute_result"
    }
   ],
   "source": [
    "gsearch_5.cv_results_['mean_test_score'], gsearch_5.cv_results_['params']"
   ]
  },
  {
   "cell_type": "code",
   "execution_count": 52,
   "id": "52d92675",
   "metadata": {},
   "outputs": [
    {
     "name": "stdout",
     "output_type": "stream",
     "text": [
      "The best parameters: {'colsample_bytree': 0.9, 'subsample': 0.9}\n",
      "The best score: 0.9268476867019821\n"
     ]
    }
   ],
   "source": [
    "print('The best parameters:', gsearch_5.best_params_)\n",
    "print('The best score:', gsearch_5.best_score_)"
   ]
  },
  {
   "cell_type": "markdown",
   "id": "746391d4",
   "metadata": {},
   "source": [
    "Лучшие показатели такими и остались: по 0.9. Посчитаем промежуточное улучшение"
   ]
  },
  {
   "cell_type": "code",
   "execution_count": 23,
   "id": "95793144",
   "metadata": {},
   "outputs": [
    {
     "name": "stdout",
     "output_type": "stream",
     "text": [
      "\n",
      "Model Report\n",
      "Accuracy : 0.8644\n",
      "AUC Score (Train): 0.939714\n",
      "AUC Score (Test): 0.929520\n"
     ]
    },
    {
     "data": {
      "image/png": "[encoded data removed]",
      "text/plain": [
       "<Figure size 432x288 with 1 Axes>"
      ]
     },
     "metadata": {
      "needs_background": "light"
     },
     "output_type": "display_data"
    }
   ],
   "source": [
    "xgb3 = XGBClassifier(\n",
    "    learning_rate = 0.1,\n",
    "    n_estimators = 1000,\n",
    "    max_depth = 8,\n",
    "    min_child_weight = 3,\n",
    "    gamma = 0.2,\n",
    "    subsample = 0.9,\n",
    "    colsample_bytree = 0.9,\n",
    "    objective = 'binary:logistic',\n",
    "    nthread = 4,\n",
    "    scale_pos_weight = scale_pos_weight_parameter,\n",
    "    seed = 27,\n",
    "    use_label_encoder = False)\n",
    "modelfit(xgb3, X_train, X_test, y_train, y_test)\n",
    "\n",
    "X_test = X_test.drop([x for x in ['predprob'] if x in X_test.columns], axis=1)"
   ]
  },
  {
   "cell_type": "markdown",
   "id": "20421a01",
   "metadata": {},
   "source": [
    "Accuracy выросло: с 0.8642 до 0.8644\n",
    "\n",
    "AUC на тренировочной снизился: с 0.939868 до 0.939714\n",
    "\n",
    "AUC на тестовой снизился: с 0.930038 до 0.929520"
   ]
  },
  {
   "cell_type": "markdown",
   "id": "c678e480",
   "metadata": {},
   "source": [
    "Подберём параметр регуляризации 'reg_alpha'"
   ]
  },
  {
   "cell_type": "code",
   "execution_count": 24,
   "id": "b20b2acb",
   "metadata": {},
   "outputs": [
    {
     "name": "stdout",
     "output_type": "stream",
     "text": [
      "[12:18:10] WARNING: C:/Users/Administrator/workspace/xgboost-win64_release_1.5.1/src/learner.cc:1115: Starting in XGBoost 1.3.0, the default evaluation metric used with the objective 'binary:logistic' was changed from 'error' to 'logloss'. Explicitly set eval_metric if you'd like to restore the old behavior.\n"
     ]
    },
    {
     "data": {
      "text/plain": [
       "GridSearchCV(cv=5,\n",
       "             estimator=XGBClassifier(base_score=None, booster=None,\n",
       "                                     colsample_bylevel=None,\n",
       "                                     colsample_bynode=None,\n",
       "                                     colsample_bytree=0.9,\n",
       "                                     enable_categorical=False, gamma=0.2,\n",
       "                                     gpu_id=None, importance_type=None,\n",
       "                                     interaction_constraints=None,\n",
       "                                     learning_rate=0.1, max_delta_step=None,\n",
       "                                     max_depth=8, min_child_weight=3,\n",
       "                                     missing=nan, monotone_constraints=None,\n",
       "                                     n_estimators=140, n_jobs=None, nthread=4,\n",
       "                                     num_parallel_tree=None, predictor=None,\n",
       "                                     random_state=None, reg_alpha=None,\n",
       "                                     reg_lambda=None,\n",
       "                                     scale_pos_weight=0.2198112203257514,\n",
       "                                     seed=27, subsample=0.9, tree_method=None,\n",
       "                                     use_label_encoder=False,\n",
       "                                     validate_parameters=None, ...),\n",
       "             n_jobs=4, param_grid={'reg_alpha': [0, 1e-05, 0.01, 0.1, 1, 100]},\n",
       "             scoring='roc_auc')"
      ]
     },
     "execution_count": 24,
     "metadata": {},
     "output_type": "execute_result"
    }
   ],
   "source": [
    "param_test_6 = {\n",
    "    'reg_alpha':[0, 1e-5, 1e-2, 0.1, 1, 100]\n",
    "}\n",
    "gsearch_6 = GridSearchCV(estimator = XGBClassifier(\n",
    "    learning_rate = 0.1,\n",
    "    n_estimators = 140,\n",
    "    max_depth = 8,\n",
    "    min_child_weight = 3,\n",
    "    gamma = 0.2,\n",
    "    subsample = 0.9,\n",
    "    colsample_bytree = 0.9,\n",
    "    objective = 'binary:logistic',\n",
    "    nthread = 4,\n",
    "    scale_pos_weight = scale_pos_weight_parameter,\n",
    "    seed = 27,\n",
    "    use_label_encoder = False), param_grid = param_test_6, scoring = 'roc_auc', n_jobs = 4, cv=5)\n",
    "\n",
    "gsearch_6.fit(X_train, y_train)"
   ]
  },
  {
   "cell_type": "code",
   "execution_count": 25,
   "id": "80561689",
   "metadata": {},
   "outputs": [
    {
     "data": {
      "text/plain": [
       "(array([0.92684769, 0.92682176, 0.92674689, 0.92665889, 0.92688778,\n",
       "        0.91965238]),\n",
       " [{'reg_alpha': 0},\n",
       "  {'reg_alpha': 1e-05},\n",
       "  {'reg_alpha': 0.01},\n",
       "  {'reg_alpha': 0.1},\n",
       "  {'reg_alpha': 1},\n",
       "  {'reg_alpha': 100}])"
      ]
     },
     "execution_count": 25,
     "metadata": {},
     "output_type": "execute_result"
    }
   ],
   "source": [
    "gsearch_6.cv_results_['mean_test_score'], gsearch_6.cv_results_['params']"
   ]
  },
  {
   "cell_type": "code",
   "execution_count": 26,
   "id": "dbc7ccf0",
   "metadata": {},
   "outputs": [
    {
     "name": "stdout",
     "output_type": "stream",
     "text": [
      "The best parameter: {'reg_alpha': 1}\n",
      "The best score: 0.9268877770518198\n"
     ]
    }
   ],
   "source": [
    "print('The best parameter:', gsearch_6.best_params_)\n",
    "print('The best score:', gsearch_6.best_score_)"
   ]
  },
  {
   "cell_type": "code",
   "execution_count": 61,
   "id": "088d9428",
   "metadata": {},
   "outputs": [
    {
     "name": "stdout",
     "output_type": "stream",
     "text": [
      "[21:38:03] WARNING: C:/Users/Administrator/workspace/xgboost-win64_release_1.5.1/src/learner.cc:1115: Starting in XGBoost 1.3.0, the default evaluation metric used with the objective 'binary:logistic' was changed from 'error' to 'logloss'. Explicitly set eval_metric if you'd like to restore the old behavior.\n"
     ]
    },
    {
     "data": {
      "text/plain": [
       "GridSearchCV(cv=5,\n",
       "             estimator=XGBClassifier(base_score=None, booster=None,\n",
       "                                     colsample_bylevel=None,\n",
       "                                     colsample_bynode=None,\n",
       "                                     colsample_bytree=0.9,\n",
       "                                     enable_categorical=False, gamma=0.2,\n",
       "                                     gpu_id=None, importance_type=None,\n",
       "                                     interaction_constraints=None,\n",
       "                                     learning_rate=0.1, max_delta_step=None,\n",
       "                                     max_depth=8, min_child_weight=3,\n",
       "                                     missing=nan, monotone_constraints=None,\n",
       "                                     n_estimators=140, n_jobs=None, nthread=4,\n",
       "                                     num_parallel_tree=None, predictor=None,\n",
       "                                     random_state=None, reg_alpha=None,\n",
       "                                     reg_lambda=None,\n",
       "                                     scale_pos_weight=0.2198112203257514,\n",
       "                                     seed=27, subsample=0.9, tree_method=None,\n",
       "                                     use_label_encoder=False,\n",
       "                                     validate_parameters=None, ...),\n",
       "             n_jobs=4, param_grid={'reg_alpha': [0.99, 0.995, 1, 1.005, 1.01]},\n",
       "             scoring='roc_auc')"
      ]
     },
     "execution_count": 61,
     "metadata": {},
     "output_type": "execute_result"
    }
   ],
   "source": [
    "param_test_7 = {\n",
    "    'reg_alpha':[0.99, 0.995, 1, 1.005, 1.01]\n",
    "}\n",
    "gsearch_7 = GridSearchCV(estimator = XGBClassifier(\n",
    "    learning_rate = 0.1,\n",
    "    n_estimators = 140,\n",
    "    max_depth = 8,\n",
    "    min_child_weight = 3,\n",
    "    gamma = 0.2,\n",
    "    subsample = 0.9,\n",
    "    colsample_bytree = 0.9,\n",
    "    objective = 'binary:logistic',\n",
    "    nthread = 4,\n",
    "    scale_pos_weight = scale_pos_weight_parameter,\n",
    "    seed = 27,\n",
    "    use_label_encoder = False), param_grid = param_test_7, scoring = 'roc_auc', n_jobs = 4, cv=5)\n",
    "\n",
    "gsearch_7.fit(X_train, y_train)"
   ]
  },
  {
   "cell_type": "code",
   "execution_count": 62,
   "id": "458a5f4a",
   "metadata": {},
   "outputs": [
    {
     "data": {
      "text/plain": [
       "(array([0.92677355, 0.92684444, 0.92688778, 0.9268683 , 0.92689747]),\n",
       " [{'reg_alpha': 0.99},\n",
       "  {'reg_alpha': 0.995},\n",
       "  {'reg_alpha': 1},\n",
       "  {'reg_alpha': 1.005},\n",
       "  {'reg_alpha': 1.01}])"
      ]
     },
     "execution_count": 62,
     "metadata": {},
     "output_type": "execute_result"
    }
   ],
   "source": [
    "gsearch_7.cv_results_['mean_test_score'], gsearch_7.cv_results_['params']"
   ]
  },
  {
   "cell_type": "code",
   "execution_count": 63,
   "id": "102e2d78",
   "metadata": {},
   "outputs": [
    {
     "name": "stdout",
     "output_type": "stream",
     "text": [
      "The best parameter: {'reg_alpha': 1.01}\n",
      "The best score: 0.9268974723872578\n"
     ]
    }
   ],
   "source": [
    "print('The best parameter:', gsearch_7.best_params_)\n",
    "print('The best score:', gsearch_7.best_score_)"
   ]
  },
  {
   "cell_type": "markdown",
   "id": "092124b5",
   "metadata": {},
   "source": [
    "Посмотрим, будет ли что-то большее 1.01 давать лучший результат"
   ]
  },
  {
   "cell_type": "code",
   "execution_count": 64,
   "id": "f89b9e0c",
   "metadata": {},
   "outputs": [
    {
     "name": "stdout",
     "output_type": "stream",
     "text": [
      "[21:47:21] WARNING: C:/Users/Administrator/workspace/xgboost-win64_release_1.5.1/src/learner.cc:1115: Starting in XGBoost 1.3.0, the default evaluation metric used with the objective 'binary:logistic' was changed from 'error' to 'logloss'. Explicitly set eval_metric if you'd like to restore the old behavior.\n"
     ]
    },
    {
     "data": {
      "text/plain": [
       "GridSearchCV(cv=5,\n",
       "             estimator=XGBClassifier(base_score=None, booster=None,\n",
       "                                     colsample_bylevel=None,\n",
       "                                     colsample_bynode=None,\n",
       "                                     colsample_bytree=0.9,\n",
       "                                     enable_categorical=False, gamma=0.2,\n",
       "                                     gpu_id=None, importance_type=None,\n",
       "                                     interaction_constraints=None,\n",
       "                                     learning_rate=0.1, max_delta_step=None,\n",
       "                                     max_depth=8, min_child_weight=3,\n",
       "                                     missing=nan, monotone_constraints=None,\n",
       "                                     n_estimators=140, n_jobs=None, nthread=4,\n",
       "                                     num_parallel_tree=None, predictor=None,\n",
       "                                     random_state=None, reg_alpha=None,\n",
       "                                     reg_lambda=None,\n",
       "                                     scale_pos_weight=0.2198112203257514,\n",
       "                                     seed=27, subsample=0.9, tree_method=None,\n",
       "                                     use_label_encoder=False,\n",
       "                                     validate_parameters=None, ...),\n",
       "             n_jobs=4, param_grid={'reg_alpha': [1.01, 1.05, 1.1, 2, 3]},\n",
       "             scoring='roc_auc')"
      ]
     },
     "execution_count": 64,
     "metadata": {},
     "output_type": "execute_result"
    }
   ],
   "source": [
    "param_test_8 = {\n",
    "    'reg_alpha':[1.01, 1.05, 1.1, 2, 3]\n",
    "}\n",
    "gsearch_8 = GridSearchCV(estimator = XGBClassifier(\n",
    "    learning_rate = 0.1,\n",
    "    n_estimators = 140,\n",
    "    max_depth = 8,\n",
    "    min_child_weight = 3,\n",
    "    gamma = 0.2,\n",
    "    subsample = 0.9,\n",
    "    colsample_bytree = 0.9,\n",
    "    objective = 'binary:logistic',\n",
    "    nthread = 4,\n",
    "    scale_pos_weight = scale_pos_weight_parameter,\n",
    "    seed = 27,\n",
    "    use_label_encoder = False), param_grid = param_test_8, scoring = 'roc_auc', n_jobs = 4, cv=5)\n",
    "\n",
    "gsearch_8.fit(X_train, y_train)"
   ]
  },
  {
   "cell_type": "code",
   "execution_count": 65,
   "id": "7e46cdd8",
   "metadata": {},
   "outputs": [
    {
     "data": {
      "text/plain": [
       "(array([0.92689747, 0.92684972, 0.92685764, 0.92685092, 0.9268418 ]),\n",
       " [{'reg_alpha': 1.01},\n",
       "  {'reg_alpha': 1.05},\n",
       "  {'reg_alpha': 1.1},\n",
       "  {'reg_alpha': 2},\n",
       "  {'reg_alpha': 3}])"
      ]
     },
     "execution_count": 65,
     "metadata": {},
     "output_type": "execute_result"
    }
   ],
   "source": [
    "gsearch_8.cv_results_['mean_test_score'], gsearch_8.cv_results_['params']"
   ]
  },
  {
   "cell_type": "code",
   "execution_count": 67,
   "id": "f57f0a2d",
   "metadata": {},
   "outputs": [
    {
     "name": "stdout",
     "output_type": "stream",
     "text": [
      "The best parameter: {'reg_alpha': 1.01}\n",
      "The best score: 0.9268974723872578\n"
     ]
    }
   ],
   "source": [
    "print('The best parameter:', gsearch_8.best_params_)\n",
    "print('The best score:', gsearch_8.best_score_)"
   ]
  },
  {
   "cell_type": "markdown",
   "id": "687e87fc",
   "metadata": {},
   "source": [
    "Лучшее значение при 'reg_alpha' = 1.01. Обучим модель с подобранными параметрами"
   ]
  },
  {
   "cell_type": "code",
   "execution_count": 20,
   "id": "ba23358c",
   "metadata": {},
   "outputs": [
    {
     "name": "stdout",
     "output_type": "stream",
     "text": [
      "\n",
      "Model Report\n",
      "Accuracy : 0.8633\n",
      "AUC Score (Train): 0.938931\n",
      "AUC Score (Test): 0.929949\n"
     ]
    },
    {
     "data": {
      "image/png": "[encoded data removed]",
      "text/plain": [
       "<Figure size 432x288 with 1 Axes>"
      ]
     },
     "metadata": {
      "needs_background": "light"
     },
     "output_type": "display_data"
    }
   ],
   "source": [
    "xgb4 = XGBClassifier(\n",
    "    learning_rate = 0.1,\n",
    "    n_estimators = 1000,\n",
    "    max_depth = 8,\n",
    "    min_child_weight = 3,\n",
    "    gamma = 0.2,\n",
    "    subsample = 0.9,\n",
    "    colsample_bytree = 0.9,\n",
    "    reg_alpha = 1.01,\n",
    "    objective = 'binary:logistic',\n",
    "    nthread = 4,\n",
    "    scale_pos_weight = scale_pos_weight_parameter,\n",
    "    seed = 27,\n",
    "    use_label_encoder = False)\n",
    "modelfit(xgb4, X_train, X_test, y_train, y_test)\n",
    "\n",
    "X_test = X_test.drop([x for x in ['predprob'] if x in X_test.columns], axis=1)"
   ]
  },
  {
   "cell_type": "markdown",
   "id": "e0309db6",
   "metadata": {},
   "source": [
    "Accuracy (c 0.8644 до 0.8633) и AUC на тренировочной (с 0.939714 до 0.938931) стали хуже"
   ]
  },
  {
   "cell_type": "markdown",
   "id": "534f5b97",
   "metadata": {},
   "source": [
    "Уменьшим learning_rate и добавим больше n_estimators"
   ]
  },
  {
   "cell_type": "code",
   "execution_count": 28,
   "id": "fe693a4e",
   "metadata": {},
   "outputs": [
    {
     "name": "stdout",
     "output_type": "stream",
     "text": [
      "\n",
      "Model Report\n",
      "Accuracy : 0.8634\n",
      "AUC Score (Train): 0.939128\n",
      "AUC Score (Test): 0.930362\n"
     ]
    },
    {
     "data": {
      "image/png": "[encoded data removed]",
      "text/plain": [
       "<Figure size 432x288 with 1 Axes>"
      ]
     },
     "metadata": {
      "needs_background": "light"
     },
     "output_type": "display_data"
    }
   ],
   "source": [
    "xgb5 = XGBClassifier(\n",
    "    learning_rate = 0.01,\n",
    "    n_estimators = 5000,\n",
    "    max_depth = 8,\n",
    "    min_child_weight = 3,\n",
    "    gamma = 0.2,\n",
    "    subsample = 0.9,\n",
    "    colsample_bytree = 0.9,\n",
    "    reg_alpha = 1.01,\n",
    "    objective = 'binary:logistic',\n",
    "    nthread = 4,\n",
    "    scale_pos_weight = scale_pos_weight_parameter,\n",
    "    seed = 27,\n",
    "    use_label_encoder = False)\n",
    "modelfit(xgb5, X_train, X_test, y_train, y_test)\n",
    "\n",
    "X_test = X_test.drop([x for x in ['predprob'] if x in X_test.columns], axis=1)"
   ]
  },
  {
   "cell_type": "markdown",
   "id": "13f1e562",
   "metadata": {},
   "source": [
    "Теперь уберём reg_alpha и посмотрим, что получится"
   ]
  },
  {
   "cell_type": "code",
   "execution_count": 29,
   "id": "1d02277d",
   "metadata": {},
   "outputs": [
    {
     "name": "stdout",
     "output_type": "stream",
     "text": [
      "\n",
      "Model Report\n",
      "Accuracy : 0.8657\n",
      "AUC Score (Train): 0.941602\n",
      "AUC Score (Test): 0.930254\n"
     ]
    },
    {
     "data": {
      "image/png": "[encoded data removed]",
      "text/plain": [
       "<Figure size 432x288 with 1 Axes>"
      ]
     },
     "metadata": {
      "needs_background": "light"
     },
     "output_type": "display_data"
    }
   ],
   "source": [
    "xgb6 = XGBClassifier(\n",
    "    learning_rate = 0.01,\n",
    "    n_estimators = 5000,\n",
    "    max_depth = 8,\n",
    "    min_child_weight = 3,\n",
    "    gamma = 0.2,\n",
    "    subsample = 0.9,\n",
    "    colsample_bytree = 0.9,\n",
    "    objective = 'binary:logistic',\n",
    "    nthread = 4,\n",
    "    scale_pos_weight = scale_pos_weight_parameter,\n",
    "    seed = 27,\n",
    "    use_label_encoder = False)\n",
    "modelfit(xgb6, X_train, X_test, y_train, y_test)\n",
    "\n",
    "X_test = X_test.drop([x for x in ['predprob'] if x in X_test.columns], axis=1)"
   ]
  },
  {
   "cell_type": "markdown",
   "id": "b5d92776",
   "metadata": {},
   "source": [
    "В качестве предсказывающей модели возьмём xgb6, показывающую лучшие результаты.\n",
    "\n",
    "Установим предсказываемую выборку:"
   ]
  },
  {
   "cell_type": "code",
   "execution_count": 41,
   "id": "91e9b30b",
   "metadata": {},
   "outputs": [
    {
     "data": {
      "text/html": [
       "<div>\n",
       "<style scoped>\n",
       "    .dataframe tbody tr th:only-of-type {\n",
       "        vertical-align: middle;\n",
       "    }\n",
       "\n",
       "    .dataframe tbody tr th {\n",
       "        vertical-align: top;\n",
       "    }\n",
       "\n",
       "    .dataframe thead th {\n",
       "        text-align: right;\n",
       "    }\n",
       "</style>\n",
       "<table border=\"1\" class=\"dataframe\">\n",
       "  <thead>\n",
       "    <tr style=\"text-align: right;\">\n",
       "      <th></th>\n",
       "      <th>pass_start_location_x</th>\n",
       "      <th>pass_start_location_y</th>\n",
       "      <th>pass_end_location_x</th>\n",
       "      <th>pass_end_location_y</th>\n",
       "      <th>pass_length</th>\n",
       "      <th>pass_angle</th>\n",
       "      <th>pass_height_name_Ground_Pass</th>\n",
       "      <th>pass_height_name_High_Pass</th>\n",
       "      <th>pass_height_name_Low_Pass</th>\n",
       "      <th>pass_body_part_name_Drop_Kick</th>\n",
       "      <th>pass_body_part_name_Head</th>\n",
       "      <th>pass_body_part_name_Keeper_Arm</th>\n",
       "      <th>pass_body_part_name_Left_Foot</th>\n",
       "      <th>pass_body_part_name_No_Touch</th>\n",
       "      <th>pass_body_part_name_Other</th>\n",
       "      <th>pass_body_part_name_Right_Foot</th>\n",
       "      <th>pass_type_name_Interception</th>\n",
       "      <th>pass_type_name_Recovery</th>\n",
       "    </tr>\n",
       "  </thead>\n",
       "  <tbody>\n",
       "    <tr>\n",
       "      <th>30907</th>\n",
       "      <td>51.4</td>\n",
       "      <td>76.6</td>\n",
       "      <td>51.0</td>\n",
       "      <td>73.4</td>\n",
       "      <td>3.224903</td>\n",
       "      <td>-1.695151</td>\n",
       "      <td>1</td>\n",
       "      <td>0</td>\n",
       "      <td>0</td>\n",
       "      <td>0</td>\n",
       "      <td>0</td>\n",
       "      <td>0</td>\n",
       "      <td>0</td>\n",
       "      <td>0</td>\n",
       "      <td>0</td>\n",
       "      <td>1</td>\n",
       "      <td>0</td>\n",
       "      <td>0</td>\n",
       "    </tr>\n",
       "    <tr>\n",
       "      <th>217239</th>\n",
       "      <td>56.8</td>\n",
       "      <td>11.8</td>\n",
       "      <td>62.1</td>\n",
       "      <td>26.9</td>\n",
       "      <td>16.003124</td>\n",
       "      <td>1.233237</td>\n",
       "      <td>0</td>\n",
       "      <td>0</td>\n",
       "      <td>1</td>\n",
       "      <td>0</td>\n",
       "      <td>1</td>\n",
       "      <td>0</td>\n",
       "      <td>0</td>\n",
       "      <td>0</td>\n",
       "      <td>0</td>\n",
       "      <td>0</td>\n",
       "      <td>0</td>\n",
       "      <td>0</td>\n",
       "    </tr>\n",
       "    <tr>\n",
       "      <th>142929</th>\n",
       "      <td>47.0</td>\n",
       "      <td>15.3</td>\n",
       "      <td>50.8</td>\n",
       "      <td>9.3</td>\n",
       "      <td>7.102112</td>\n",
       "      <td>-1.006227</td>\n",
       "      <td>1</td>\n",
       "      <td>0</td>\n",
       "      <td>0</td>\n",
       "      <td>0</td>\n",
       "      <td>0</td>\n",
       "      <td>0</td>\n",
       "      <td>0</td>\n",
       "      <td>0</td>\n",
       "      <td>0</td>\n",
       "      <td>1</td>\n",
       "      <td>0</td>\n",
       "      <td>0</td>\n",
       "    </tr>\n",
       "    <tr>\n",
       "      <th>206533</th>\n",
       "      <td>53.5</td>\n",
       "      <td>46.3</td>\n",
       "      <td>62.9</td>\n",
       "      <td>66.9</td>\n",
       "      <td>22.643322</td>\n",
       "      <td>1.142707</td>\n",
       "      <td>1</td>\n",
       "      <td>0</td>\n",
       "      <td>0</td>\n",
       "      <td>0</td>\n",
       "      <td>0</td>\n",
       "      <td>0</td>\n",
       "      <td>0</td>\n",
       "      <td>0</td>\n",
       "      <td>0</td>\n",
       "      <td>1</td>\n",
       "      <td>0</td>\n",
       "      <td>0</td>\n",
       "    </tr>\n",
       "    <tr>\n",
       "      <th>140633</th>\n",
       "      <td>4.0</td>\n",
       "      <td>65.1</td>\n",
       "      <td>5.1</td>\n",
       "      <td>79.8</td>\n",
       "      <td>14.741099</td>\n",
       "      <td>1.496106</td>\n",
       "      <td>1</td>\n",
       "      <td>0</td>\n",
       "      <td>0</td>\n",
       "      <td>0</td>\n",
       "      <td>0</td>\n",
       "      <td>0</td>\n",
       "      <td>0</td>\n",
       "      <td>0</td>\n",
       "      <td>0</td>\n",
       "      <td>1</td>\n",
       "      <td>0</td>\n",
       "      <td>0</td>\n",
       "    </tr>\n",
       "    <tr>\n",
       "      <th>...</th>\n",
       "      <td>...</td>\n",
       "      <td>...</td>\n",
       "      <td>...</td>\n",
       "      <td>...</td>\n",
       "      <td>...</td>\n",
       "      <td>...</td>\n",
       "      <td>...</td>\n",
       "      <td>...</td>\n",
       "      <td>...</td>\n",
       "      <td>...</td>\n",
       "      <td>...</td>\n",
       "      <td>...</td>\n",
       "      <td>...</td>\n",
       "      <td>...</td>\n",
       "      <td>...</td>\n",
       "      <td>...</td>\n",
       "      <td>...</td>\n",
       "      <td>...</td>\n",
       "    </tr>\n",
       "    <tr>\n",
       "      <th>168732</th>\n",
       "      <td>86.5</td>\n",
       "      <td>48.9</td>\n",
       "      <td>92.5</td>\n",
       "      <td>29.9</td>\n",
       "      <td>19.924858</td>\n",
       "      <td>-1.264917</td>\n",
       "      <td>1</td>\n",
       "      <td>0</td>\n",
       "      <td>0</td>\n",
       "      <td>0</td>\n",
       "      <td>0</td>\n",
       "      <td>0</td>\n",
       "      <td>0</td>\n",
       "      <td>0</td>\n",
       "      <td>0</td>\n",
       "      <td>1</td>\n",
       "      <td>0</td>\n",
       "      <td>0</td>\n",
       "    </tr>\n",
       "    <tr>\n",
       "      <th>221509</th>\n",
       "      <td>36.7</td>\n",
       "      <td>72.1</td>\n",
       "      <td>45.0</td>\n",
       "      <td>75.4</td>\n",
       "      <td>8.931965</td>\n",
       "      <td>0.378427</td>\n",
       "      <td>0</td>\n",
       "      <td>0</td>\n",
       "      <td>1</td>\n",
       "      <td>0</td>\n",
       "      <td>0</td>\n",
       "      <td>0</td>\n",
       "      <td>0</td>\n",
       "      <td>0</td>\n",
       "      <td>0</td>\n",
       "      <td>0</td>\n",
       "      <td>0</td>\n",
       "      <td>1</td>\n",
       "    </tr>\n",
       "    <tr>\n",
       "      <th>163765</th>\n",
       "      <td>26.2</td>\n",
       "      <td>65.5</td>\n",
       "      <td>34.7</td>\n",
       "      <td>53.5</td>\n",
       "      <td>14.705441</td>\n",
       "      <td>-0.954499</td>\n",
       "      <td>1</td>\n",
       "      <td>0</td>\n",
       "      <td>0</td>\n",
       "      <td>0</td>\n",
       "      <td>0</td>\n",
       "      <td>0</td>\n",
       "      <td>0</td>\n",
       "      <td>0</td>\n",
       "      <td>0</td>\n",
       "      <td>1</td>\n",
       "      <td>0</td>\n",
       "      <td>0</td>\n",
       "    </tr>\n",
       "    <tr>\n",
       "      <th>151643</th>\n",
       "      <td>90.6</td>\n",
       "      <td>66.8</td>\n",
       "      <td>91.8</td>\n",
       "      <td>52.6</td>\n",
       "      <td>14.250614</td>\n",
       "      <td>-1.486490</td>\n",
       "      <td>0</td>\n",
       "      <td>1</td>\n",
       "      <td>0</td>\n",
       "      <td>0</td>\n",
       "      <td>1</td>\n",
       "      <td>0</td>\n",
       "      <td>0</td>\n",
       "      <td>0</td>\n",
       "      <td>0</td>\n",
       "      <td>0</td>\n",
       "      <td>0</td>\n",
       "      <td>1</td>\n",
       "    </tr>\n",
       "    <tr>\n",
       "      <th>88770</th>\n",
       "      <td>69.0</td>\n",
       "      <td>2.6</td>\n",
       "      <td>49.0</td>\n",
       "      <td>8.2</td>\n",
       "      <td>20.769209</td>\n",
       "      <td>2.868584</td>\n",
       "      <td>1</td>\n",
       "      <td>0</td>\n",
       "      <td>0</td>\n",
       "      <td>0</td>\n",
       "      <td>0</td>\n",
       "      <td>0</td>\n",
       "      <td>1</td>\n",
       "      <td>0</td>\n",
       "      <td>0</td>\n",
       "      <td>0</td>\n",
       "      <td>0</td>\n",
       "      <td>0</td>\n",
       "    </tr>\n",
       "  </tbody>\n",
       "</table>\n",
       "<p>68149 rows × 18 columns</p>\n",
       "</div>"
      ],
      "text/plain": [
       "        pass_start_location_x  pass_start_location_y  pass_end_location_x  \\\n",
       "30907                    51.4                   76.6                 51.0   \n",
       "217239                   56.8                   11.8                 62.1   \n",
       "142929                   47.0                   15.3                 50.8   \n",
       "206533                   53.5                   46.3                 62.9   \n",
       "140633                    4.0                   65.1                  5.1   \n",
       "...                       ...                    ...                  ...   \n",
       "168732                   86.5                   48.9                 92.5   \n",
       "221509                   36.7                   72.1                 45.0   \n",
       "163765                   26.2                   65.5                 34.7   \n",
       "151643                   90.6                   66.8                 91.8   \n",
       "88770                    69.0                    2.6                 49.0   \n",
       "\n",
       "        pass_end_location_y  pass_length  pass_angle  \\\n",
       "30907                  73.4     3.224903   -1.695151   \n",
       "217239                 26.9    16.003124    1.233237   \n",
       "142929                  9.3     7.102112   -1.006227   \n",
       "206533                 66.9    22.643322    1.142707   \n",
       "140633                 79.8    14.741099    1.496106   \n",
       "...                     ...          ...         ...   \n",
       "168732                 29.9    19.924858   -1.264917   \n",
       "221509                 75.4     8.931965    0.378427   \n",
       "163765                 53.5    14.705441   -0.954499   \n",
       "151643                 52.6    14.250614   -1.486490   \n",
       "88770                   8.2    20.769209    2.868584   \n",
       "\n",
       "        pass_height_name_Ground_Pass  pass_height_name_High_Pass  \\\n",
       "30907                              1                           0   \n",
       "217239                             0                           0   \n",
       "142929                             1                           0   \n",
       "206533                             1                           0   \n",
       "140633                             1                           0   \n",
       "...                              ...                         ...   \n",
       "168732                             1                           0   \n",
       "221509                             0                           0   \n",
       "163765                             1                           0   \n",
       "151643                             0                           1   \n",
       "88770                              1                           0   \n",
       "\n",
       "        pass_height_name_Low_Pass  pass_body_part_name_Drop_Kick  \\\n",
       "30907                           0                              0   \n",
       "217239                          1                              0   \n",
       "142929                          0                              0   \n",
       "206533                          0                              0   \n",
       "140633                          0                              0   \n",
       "...                           ...                            ...   \n",
       "168732                          0                              0   \n",
       "221509                          1                              0   \n",
       "163765                          0                              0   \n",
       "151643                          0                              0   \n",
       "88770                           0                              0   \n",
       "\n",
       "        pass_body_part_name_Head  pass_body_part_name_Keeper_Arm  \\\n",
       "30907                          0                               0   \n",
       "217239                         1                               0   \n",
       "142929                         0                               0   \n",
       "206533                         0                               0   \n",
       "140633                         0                               0   \n",
       "...                          ...                             ...   \n",
       "168732                         0                               0   \n",
       "221509                         0                               0   \n",
       "163765                         0                               0   \n",
       "151643                         1                               0   \n",
       "88770                          0                               0   \n",
       "\n",
       "        pass_body_part_name_Left_Foot  pass_body_part_name_No_Touch  \\\n",
       "30907                               0                             0   \n",
       "217239                              0                             0   \n",
       "142929                              0                             0   \n",
       "206533                              0                             0   \n",
       "140633                              0                             0   \n",
       "...                               ...                           ...   \n",
       "168732                              0                             0   \n",
       "221509                              0                             0   \n",
       "163765                              0                             0   \n",
       "151643                              0                             0   \n",
       "88770                               1                             0   \n",
       "\n",
       "        pass_body_part_name_Other  pass_body_part_name_Right_Foot  \\\n",
       "30907                           0                               1   \n",
       "217239                          0                               0   \n",
       "142929                          0                               1   \n",
       "206533                          0                               1   \n",
       "140633                          0                               1   \n",
       "...                           ...                             ...   \n",
       "168732                          0                               1   \n",
       "221509                          0                               0   \n",
       "163765                          0                               1   \n",
       "151643                          0                               0   \n",
       "88770                           0                               0   \n",
       "\n",
       "        pass_type_name_Interception  pass_type_name_Recovery  \n",
       "30907                             0                        0  \n",
       "217239                            0                        0  \n",
       "142929                            0                        0  \n",
       "206533                            0                        0  \n",
       "140633                            0                        0  \n",
       "...                             ...                      ...  \n",
       "168732                            0                        0  \n",
       "221509                            0                        1  \n",
       "163765                            0                        0  \n",
       "151643                            0                        1  \n",
       "88770                             0                        0  \n",
       "\n",
       "[68149 rows x 18 columns]"
      ]
     },
     "execution_count": 41,
     "metadata": {},
     "output_type": "execute_result"
    }
   ],
   "source": [
    "X_predict = df_predict[df_predict['id'].isin(submission_result['id'])]\n",
    "X_predict = X_predict.sort_values(by=['id'])\n",
    "ID_col = X_predict['id']\n",
    "X_predict = set_X(X_predict)\n",
    "X_predict"
   ]
  },
  {
   "cell_type": "code",
   "execution_count": 42,
   "id": "493c2004",
   "metadata": {},
   "outputs": [],
   "source": [
    "data = {\n",
    "    'id': ID_col\n",
    "}\n",
    "predictions = pd.DataFrame(data)\n",
    "predictions_probability = pd.DataFrame(data)\n",
    "\n",
    "predictions['outcome_binary'] = xgb6.predict(X_predict)\n",
    "predictions_probability['outcome_binary'] = xgb6.predict_proba(X_predict)[:,1]"
   ]
  },
  {
   "cell_type": "code",
   "execution_count": 43,
   "id": "9eccf135",
   "metadata": {},
   "outputs": [
    {
     "data": {
      "text/html": [
       "<div>\n",
       "<style scoped>\n",
       "    .dataframe tbody tr th:only-of-type {\n",
       "        vertical-align: middle;\n",
       "    }\n",
       "\n",
       "    .dataframe tbody tr th {\n",
       "        vertical-align: top;\n",
       "    }\n",
       "\n",
       "    .dataframe thead th {\n",
       "        text-align: right;\n",
       "    }\n",
       "</style>\n",
       "<table border=\"1\" class=\"dataframe\">\n",
       "  <thead>\n",
       "    <tr style=\"text-align: right;\">\n",
       "      <th></th>\n",
       "      <th>id</th>\n",
       "      <th>outcome_binary</th>\n",
       "    </tr>\n",
       "  </thead>\n",
       "  <tbody>\n",
       "    <tr>\n",
       "      <th>30907</th>\n",
       "      <td>00008169-659b-46c5-be86-a15b8068ef05</td>\n",
       "      <td>0</td>\n",
       "    </tr>\n",
       "    <tr>\n",
       "      <th>217239</th>\n",
       "      <td>0000c881-3d53-4c2f-86bb-542b653591ae</td>\n",
       "      <td>0</td>\n",
       "    </tr>\n",
       "    <tr>\n",
       "      <th>142929</th>\n",
       "      <td>00010f78-4407-4e0c-b59e-a33f3b86af1f</td>\n",
       "      <td>1</td>\n",
       "    </tr>\n",
       "    <tr>\n",
       "      <th>206533</th>\n",
       "      <td>000186c5-94e1-46ab-90b8-4b20ba319d1b</td>\n",
       "      <td>1</td>\n",
       "    </tr>\n",
       "    <tr>\n",
       "      <th>140633</th>\n",
       "      <td>0002d42e-6214-48fa-ba7d-2ade486dcd27</td>\n",
       "      <td>0</td>\n",
       "    </tr>\n",
       "    <tr>\n",
       "      <th>...</th>\n",
       "      <td>...</td>\n",
       "      <td>...</td>\n",
       "    </tr>\n",
       "    <tr>\n",
       "      <th>168732</th>\n",
       "      <td>fffbc079-230d-4eb6-b713-9509b07dd02d</td>\n",
       "      <td>1</td>\n",
       "    </tr>\n",
       "    <tr>\n",
       "      <th>221509</th>\n",
       "      <td>fffce801-575e-4f51-8411-5fa1a338360d</td>\n",
       "      <td>0</td>\n",
       "    </tr>\n",
       "    <tr>\n",
       "      <th>163765</th>\n",
       "      <td>fffd0d33-a248-4fc8-8ef0-edaa4d4cc217</td>\n",
       "      <td>1</td>\n",
       "    </tr>\n",
       "    <tr>\n",
       "      <th>151643</th>\n",
       "      <td>fffd4e83-cae7-4146-8729-ab37a74f7e18</td>\n",
       "      <td>0</td>\n",
       "    </tr>\n",
       "    <tr>\n",
       "      <th>88770</th>\n",
       "      <td>fffe5457-1374-48b2-98e6-cb7c5468d1ce</td>\n",
       "      <td>1</td>\n",
       "    </tr>\n",
       "  </tbody>\n",
       "</table>\n",
       "<p>68149 rows × 2 columns</p>\n",
       "</div>"
      ],
      "text/plain": [
       "                                          id  outcome_binary\n",
       "30907   00008169-659b-46c5-be86-a15b8068ef05               0\n",
       "217239  0000c881-3d53-4c2f-86bb-542b653591ae               0\n",
       "142929  00010f78-4407-4e0c-b59e-a33f3b86af1f               1\n",
       "206533  000186c5-94e1-46ab-90b8-4b20ba319d1b               1\n",
       "140633  0002d42e-6214-48fa-ba7d-2ade486dcd27               0\n",
       "...                                      ...             ...\n",
       "168732  fffbc079-230d-4eb6-b713-9509b07dd02d               1\n",
       "221509  fffce801-575e-4f51-8411-5fa1a338360d               0\n",
       "163765  fffd0d33-a248-4fc8-8ef0-edaa4d4cc217               1\n",
       "151643  fffd4e83-cae7-4146-8729-ab37a74f7e18               0\n",
       "88770   fffe5457-1374-48b2-98e6-cb7c5468d1ce               1\n",
       "\n",
       "[68149 rows x 2 columns]"
      ]
     },
     "execution_count": 43,
     "metadata": {},
     "output_type": "execute_result"
    }
   ],
   "source": [
    "predictions"
   ]
  },
  {
   "cell_type": "code",
   "execution_count": 44,
   "id": "2140fe08",
   "metadata": {},
   "outputs": [
    {
     "data": {
      "text/html": [
       "<div>\n",
       "<style scoped>\n",
       "    .dataframe tbody tr th:only-of-type {\n",
       "        vertical-align: middle;\n",
       "    }\n",
       "\n",
       "    .dataframe tbody tr th {\n",
       "        vertical-align: top;\n",
       "    }\n",
       "\n",
       "    .dataframe thead th {\n",
       "        text-align: right;\n",
       "    }\n",
       "</style>\n",
       "<table border=\"1\" class=\"dataframe\">\n",
       "  <thead>\n",
       "    <tr style=\"text-align: right;\">\n",
       "      <th></th>\n",
       "      <th>id</th>\n",
       "      <th>outcome_binary</th>\n",
       "    </tr>\n",
       "  </thead>\n",
       "  <tbody>\n",
       "    <tr>\n",
       "      <th>30907</th>\n",
       "      <td>00008169-659b-46c5-be86-a15b8068ef05</td>\n",
       "      <td>0.089150</td>\n",
       "    </tr>\n",
       "    <tr>\n",
       "      <th>217239</th>\n",
       "      <td>0000c881-3d53-4c2f-86bb-542b653591ae</td>\n",
       "      <td>0.355830</td>\n",
       "    </tr>\n",
       "    <tr>\n",
       "      <th>142929</th>\n",
       "      <td>00010f78-4407-4e0c-b59e-a33f3b86af1f</td>\n",
       "      <td>0.787192</td>\n",
       "    </tr>\n",
       "    <tr>\n",
       "      <th>206533</th>\n",
       "      <td>000186c5-94e1-46ab-90b8-4b20ba319d1b</td>\n",
       "      <td>0.939200</td>\n",
       "    </tr>\n",
       "    <tr>\n",
       "      <th>140633</th>\n",
       "      <td>0002d42e-6214-48fa-ba7d-2ade486dcd27</td>\n",
       "      <td>0.050942</td>\n",
       "    </tr>\n",
       "    <tr>\n",
       "      <th>...</th>\n",
       "      <td>...</td>\n",
       "      <td>...</td>\n",
       "    </tr>\n",
       "    <tr>\n",
       "      <th>168732</th>\n",
       "      <td>fffbc079-230d-4eb6-b713-9509b07dd02d</td>\n",
       "      <td>0.669407</td>\n",
       "    </tr>\n",
       "    <tr>\n",
       "      <th>221509</th>\n",
       "      <td>fffce801-575e-4f51-8411-5fa1a338360d</td>\n",
       "      <td>0.422224</td>\n",
       "    </tr>\n",
       "    <tr>\n",
       "      <th>163765</th>\n",
       "      <td>fffd0d33-a248-4fc8-8ef0-edaa4d4cc217</td>\n",
       "      <td>0.924572</td>\n",
       "    </tr>\n",
       "    <tr>\n",
       "      <th>151643</th>\n",
       "      <td>fffd4e83-cae7-4146-8729-ab37a74f7e18</td>\n",
       "      <td>0.175401</td>\n",
       "    </tr>\n",
       "    <tr>\n",
       "      <th>88770</th>\n",
       "      <td>fffe5457-1374-48b2-98e6-cb7c5468d1ce</td>\n",
       "      <td>0.991645</td>\n",
       "    </tr>\n",
       "  </tbody>\n",
       "</table>\n",
       "<p>68149 rows × 2 columns</p>\n",
       "</div>"
      ],
      "text/plain": [
       "                                          id  outcome_binary\n",
       "30907   00008169-659b-46c5-be86-a15b8068ef05        0.089150\n",
       "217239  0000c881-3d53-4c2f-86bb-542b653591ae        0.355830\n",
       "142929  00010f78-4407-4e0c-b59e-a33f3b86af1f        0.787192\n",
       "206533  000186c5-94e1-46ab-90b8-4b20ba319d1b        0.939200\n",
       "140633  0002d42e-6214-48fa-ba7d-2ade486dcd27        0.050942\n",
       "...                                      ...             ...\n",
       "168732  fffbc079-230d-4eb6-b713-9509b07dd02d        0.669407\n",
       "221509  fffce801-575e-4f51-8411-5fa1a338360d        0.422224\n",
       "163765  fffd0d33-a248-4fc8-8ef0-edaa4d4cc217        0.924572\n",
       "151643  fffd4e83-cae7-4146-8729-ab37a74f7e18        0.175401\n",
       "88770   fffe5457-1374-48b2-98e6-cb7c5468d1ce        0.991645\n",
       "\n",
       "[68149 rows x 2 columns]"
      ]
     },
     "execution_count": 44,
     "metadata": {},
     "output_type": "execute_result"
    }
   ],
   "source": [
    "predictions_probability"
   ]
  },
  {
   "cell_type": "code",
   "execution_count": 45,
   "id": "7b5bc3ca",
   "metadata": {},
   "outputs": [],
   "source": [
    "# Это предсказания!\n",
    "predictions.to_csv('predictions/predictions.csv', index=False)\n",
    "\n",
    "# Это вероятности!\n",
    "predictions_probability.to_csv('predictions/predictions_probability.csv', index=False)"
   ]
  }
 ],
 "metadata": {
  "kernelspec": {
   "display_name": "Python 3 (ipykernel)",
   "language": "python",
   "name": "python3"
  },
  "language_info": {
   "codemirror_mode": {
    "name": "ipython",
    "version": 3
   },
   "file_extension": ".py",
   "mimetype": "text/x-python",
   "name": "python",
   "nbconvert_exporter": "python",
   "pygments_lexer": "ipython3",
   "version": "3.9.10"
  }
 },
 "nbformat": 4,
 "nbformat_minor": 5
}
